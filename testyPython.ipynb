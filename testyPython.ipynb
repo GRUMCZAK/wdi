{
  "nbformat": 4,
  "nbformat_minor": 0,
  "metadata": {
    "colab": {
      "provenance": [],
      "authorship_tag": "ABX9TyNfNmYYI6nwSCOjP/p8jXVf",
      "include_colab_link": true
    },
    "kernelspec": {
      "name": "python3",
      "display_name": "Python 3"
    },
    "language_info": {
      "name": "python"
    }
  },
  "cells": [
    {
      "cell_type": "markdown",
      "metadata": {
        "id": "view-in-github",
        "colab_type": "text"
      },
      "source": [
        "<a href=\"https://colab.research.google.com/github/GRUMCZAK/wdi/blob/main/testyPython.ipynb\" target=\"_parent\"><img src=\"https://colab.research.google.com/assets/colab-badge.svg\" alt=\"Open In Colab\"/></a>"
      ]
    },
    {
      "cell_type": "code",
      "source": [
        "pip install -U pytest\n"
      ],
      "metadata": {
        "colab": {
          "base_uri": "https://localhost:8080/"
        },
        "id": "yQXkmAfBbS76",
        "outputId": "7c567f8b-4a44-4214-c2d2-5cf5d31d3046"
      },
      "execution_count": 5,
      "outputs": [
        {
          "output_type": "stream",
          "name": "stdout",
          "text": [
            "Requirement already satisfied: pytest in /usr/local/lib/python3.10/dist-packages (7.4.3)\n",
            "Requirement already satisfied: iniconfig in /usr/local/lib/python3.10/dist-packages (from pytest) (2.0.0)\n",
            "Requirement already satisfied: packaging in /usr/local/lib/python3.10/dist-packages (from pytest) (23.2)\n",
            "Requirement already satisfied: pluggy<2.0,>=0.12 in /usr/local/lib/python3.10/dist-packages (from pytest) (1.3.0)\n",
            "Requirement already satisfied: exceptiongroup>=1.0.0rc8 in /usr/local/lib/python3.10/dist-packages (from pytest) (1.2.0)\n",
            "Requirement already satisfied: tomli>=1.0.0 in /usr/local/lib/python3.10/dist-packages (from pytest) (2.0.1)\n"
          ]
        }
      ]
    },
    {
      "cell_type": "code",
      "source": [
        "from decimal import Decimal, getcontext\n",
        "import pytest\n",
        "def test_Exception():\n",
        "    with pytest.raises(ValueError):\n",
        "        calculatePhi(0)\n",
        "\n",
        "def test_Value():\n",
        "    assert calculatePhi(3) > 0\n",
        "\n",
        "\n",
        "def calculatePhi(n):\n",
        "\n",
        "    try:\n",
        "        getcontext().prec = n #ustalamy dokladnosc liczb po przecinku\n",
        "        e = 1\n",
        "        i = 1\n",
        "        l = []\n",
        "        l.append(e)\n",
        "        dzielnik = 1\n",
        "        while i < 50:\n",
        "            dzielnik *= i\n",
        "            e = e + Decimal(1/dzielnik) #stosujemy wzor podany w poleceniu\n",
        "            i=i+1\n",
        "            l.append(e) #l przechowuje kolejne przyblizenia e\n",
        "        for g in range(0,len(l)-1): #wypelniamy l roznicami w przyblizeniach\n",
        "            l[g] = l[len(l)-1]-l[g]\n",
        "\n",
        "        print(\"10 pierwszych wyrazow\")\n",
        "        for h in range(0,10):\n",
        "            print(l[h])\n",
        "\n",
        "        print(\" \")\n",
        "        print(\"10 srodkowych wyrazow\")\n",
        "        for p in range(int((len(l)/2))-5,(int(len(l)/2))+5):\n",
        "            print(l[p])\n",
        "\n",
        "        print(\" \")\n",
        "        print(\"10 ostatnich wyrazow\")\n",
        "        for k in range(0,10):\n",
        "            print(l[len(l)-1-k])\n",
        "\n",
        "        return(l[0])\n",
        "    except:\n",
        "        raise ValueError"
      ],
      "metadata": {
        "id": "jQ4XYr-Gbfqo"
      },
      "execution_count": 12,
      "outputs": []
    },
    {
      "cell_type": "code",
      "source": [
        "!python -m pytest pytestzestaw5zad8.py"
      ],
      "metadata": {
        "colab": {
          "base_uri": "https://localhost:8080/"
        },
        "id": "dlFlXSu3bpi8",
        "outputId": "78ff8a28-24cd-44c0-db61-a870ed0b021e"
      },
      "execution_count": 21,
      "outputs": [
        {
          "output_type": "stream",
          "name": "stdout",
          "text": [
            "\u001b[1m======================================= test session starts ========================================\u001b[0m\n",
            "platform linux -- Python 3.10.12, pytest-7.4.3, pluggy-1.3.0\n",
            "rootdir: /content\n",
            "plugins: anyio-3.7.1\n",
            "\u001b[1mcollecting ... \u001b[0m\u001b[1m\rcollected 2 items                                                                                  \u001b[0m\n",
            "\n",
            "pytestzestaw5zad8.py \u001b[32m.\u001b[0m\u001b[32m.\u001b[0m\u001b[32m                                                                      [100%]\u001b[0m\n",
            "\n",
            "\u001b[32m======================================== \u001b[32m\u001b[1m2 passed\u001b[0m\u001b[32m in 0.01s\u001b[0m\u001b[32m =========================================\u001b[0m\n"
          ]
        }
      ]
    },
    {
      "cell_type": "code",
      "source": [
        "!python -m pytest pytestzestaw7zad7.py"
      ],
      "metadata": {
        "colab": {
          "base_uri": "https://localhost:8080/"
        },
        "id": "bDF3-Sc3jF-I",
        "outputId": "9b687bdb-9d65-42c2-8c7a-f56aba495fd7"
      },
      "execution_count": 15,
      "outputs": [
        {
          "output_type": "stream",
          "name": "stdout",
          "text": [
            "\u001b[1m======================================= test session starts ========================================\u001b[0m\n",
            "platform linux -- Python 3.10.12, pytest-7.4.3, pluggy-1.3.0\n",
            "rootdir: /content\n",
            "plugins: anyio-3.7.1\n",
            "\u001b[1mcollecting ... \u001b[0m\u001b[1m\rcollected 2 items                                                                                  \u001b[0m\n",
            "\n",
            "pytestzestaw7zad7.py \u001b[32m.\u001b[0m\u001b[32m.\u001b[0m\u001b[32m                                                                      [100%]\u001b[0m\n",
            "\n",
            "\u001b[32m======================================== \u001b[32m\u001b[1m2 passed\u001b[0m\u001b[32m in 0.01s\u001b[0m\u001b[32m =========================================\u001b[0m\n"
          ]
        }
      ]
    },
    {
      "cell_type": "code",
      "source": [
        "!python -m pytest pytestunittestzestaw3zad12.py"
      ],
      "metadata": {
        "colab": {
          "base_uri": "https://localhost:8080/"
        },
        "id": "FIECb0AVjb9b",
        "outputId": "2cb55fbb-fc29-418c-92f9-8e4b45798dee"
      },
      "execution_count": 16,
      "outputs": [
        {
          "output_type": "stream",
          "name": "stdout",
          "text": [
            "\u001b[1m======================================= test session starts ========================================\u001b[0m\n",
            "platform linux -- Python 3.10.12, pytest-7.4.3, pluggy-1.3.0\n",
            "rootdir: /content\n",
            "plugins: anyio-3.7.1\n",
            "\u001b[1mcollecting ... \u001b[0m\u001b[1m\rcollected 2 items                                                                                  \u001b[0m\n",
            "\n",
            "pytestunittestzestaw3zad12.py \u001b[32m.\u001b[0m\u001b[32m.\u001b[0m\u001b[32m                                                             [100%]\u001b[0m\n",
            "\n",
            "\u001b[32m======================================== \u001b[32m\u001b[1m2 passed\u001b[0m\u001b[32m in 0.01s\u001b[0m\u001b[32m =========================================\u001b[0m\n"
          ]
        }
      ]
    },
    {
      "cell_type": "code",
      "source": [
        "!python -m unittest /content/unittestzestaw10zad5klasy.py"
      ],
      "metadata": {
        "colab": {
          "base_uri": "https://localhost:8080/"
        },
        "id": "7EHwG48NlJN3",
        "outputId": "0179940f-28c0-4767-d934-3aa61710b77d"
      },
      "execution_count": 20,
      "outputs": [
        {
          "output_type": "stream",
          "name": "stdout",
          "text": [
            "..\n",
            "----------------------------------------------------------------------\n",
            "Ran 2 tests in 0.000s\n",
            "\n",
            "OK\n"
          ]
        }
      ]
    },
    {
      "cell_type": "code",
      "source": [
        "!python -m unittest /content/unittestzestaw9zad9.py"
      ],
      "metadata": {
        "colab": {
          "base_uri": "https://localhost:8080/"
        },
        "id": "byFpW4iVmqt7",
        "outputId": "e73b5290-6ade-4dc1-d453-1f78c9f5f8cd"
      },
      "execution_count": 23,
      "outputs": [
        {
          "output_type": "stream",
          "name": "stdout",
          "text": [
            ".1\n",
            ".\n",
            "----------------------------------------------------------------------\n",
            "Ran 2 tests in 0.001s\n",
            "\n",
            "OK\n"
          ]
        }
      ]
    }
  ]
}